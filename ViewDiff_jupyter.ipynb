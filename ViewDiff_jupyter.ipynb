{
  "cells": [
    {
      "cell_type": "markdown",
      "metadata": {
        "id": "view-in-github"
      },
      "source": [
        "[![Open In Colab](https://colab.research.google.com/assets/colab-badge.svg)](https://colab.research.google.com/github/camenduru/ViewDiff-jupyter/blob/main/ViewDiff_jupyter.ipynb)"
      ]
    },
    {
      "cell_type": "code",
      "execution_count": null,
      "metadata": {
        "id": "VjYy0F2gZIPR"
      },
      "outputs": [],
      "source": [
        "%cd /content\n",
        "!git clone -b dev https://github.com/camenduru/ViewDiff\n",
        "%cd /content/ViewDiff\n",
        "\n",
        "!pip install -q https://github.com/camenduru/wheels/releases/download/colab/pytorch3d-0.7.5-cp310-cp310-linux_x86_64.whl\n",
        "!pip install -q https://download.pytorch.org/whl/cu121/xformers-0.0.22.post7-cp310-cp310-manylinux2014_x86_64.whl\n",
        "!pip install -q accelerate==0.23.0 bitsandbytes==0.41.2.post2 carvekit_colab==4.1.0 dacite==1.8.1 diffusers==0.21.2\n",
        "!pip install -q ffmpeg_python==0.2.0 lpips==0.1.4 omegaconf==2.3.0 tyro==0.5.7\n",
        "\n",
        "%cd /content\n",
        "!mkdir /content/apple\n",
        "%cd /content/apple\n",
        "!wget https://dl.fbaipublicfiles.com/co3dv2_231130/apple_000_singlesequence.zip\n",
        "!wget https://dl.fbaipublicfiles.com/co3dv2_231130/apple_001_singlesequence.zip\n",
        "!unzip /content/co3d/apple_000_singlesequence.zip\n",
        "!unzip /content/co3d/apple_001_singlesequence.zip\n",
        "\n",
        "%cd /content\n",
        "!git clone https://github.com/facebookresearch/co3d\n",
        "%cd /content/co3d"
      ]
    }
  ],
  "metadata": {
    "accelerator": "GPU",
    "colab": {
      "gpuType": "T4",
      "provenance": []
    },
    "kernelspec": {
      "display_name": "Python 3",
      "name": "python3"
    },
    "language_info": {
      "name": "python"
    }
  },
  "nbformat": 4,
  "nbformat_minor": 0
}
